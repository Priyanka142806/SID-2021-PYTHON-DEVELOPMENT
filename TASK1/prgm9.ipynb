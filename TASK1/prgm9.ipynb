{
  "nbformat": 4,
  "nbformat_minor": 0,
  "metadata": {
    "colab": {
      "name": "prgm9.ipynb",
      "provenance": [],
      "collapsed_sections": []
    },
    "kernelspec": {
      "name": "python3",
      "display_name": "Python 3"
    },
    "language_info": {
      "name": "python"
    }
  },
  "cells": [
    {
      "cell_type": "markdown",
      "metadata": {
        "id": "n7mPiVyDHdEy"
      },
      "source": [
        "# Given an array ‘a[ ]’ of integers and an integer ‘n’.You have to print the n’th smallest integer in the array"
      ]
    },
    {
      "cell_type": "code",
      "metadata": {
        "colab": {
          "base_uri": "https://localhost:8080/"
        },
        "id": "sAuukRnVFkfH",
        "outputId": "1780d8a9-871e-4353-e07a-8f5f958de8ac"
      },
      "source": [
        "def sort(arr):\n",
        "    for i in range(0,len(arr)):\n",
        "        for j in range(i+1,len(arr)):\n",
        "            if arr[i]>arr[j]:\n",
        "                temp = int(arr[i])\n",
        "                arr[i]=arr[j]\n",
        "                arr[j]=temp\n",
        "\n",
        "\n",
        "if __name__==\"__main__\":\n",
        "  print(\"Enter the Elements \")\n",
        "  arr= [int(a) for a in input().split()]\n",
        "  n=int(input(\"Enter the value of n \"))\n",
        "  sort(arr)\n",
        "  print(\"The required element is\", arr[n-1])\n",
        "\n"
      ],
      "execution_count": 3,
      "outputs": [
        {
          "output_type": "stream",
          "text": [
            "Enter the Elements \n",
            "7 15 3 4 18 1\n",
            "Enter the value of n 2\n",
            "The required element is 3\n"
          ],
          "name": "stdout"
        }
      ]
    }
  ]
}