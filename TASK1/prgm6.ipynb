{
  "nbformat": 4,
  "nbformat_minor": 0,
  "metadata": {
    "colab": {
      "name": "prgm6.ipynb",
      "provenance": [],
      "collapsed_sections": []
    },
    "kernelspec": {
      "name": "python3",
      "display_name": "Python 3"
    },
    "language_info": {
      "name": "python"
    }
  },
  "cells": [
    {
      "cell_type": "markdown",
      "metadata": {
        "id": "iGLAJr0DRiQ1"
      },
      "source": [
        " # Given a string ‘s’ and a string ‘f’, find no of times string f occurs in string s."
      ]
    },
    {
      "cell_type": "code",
      "metadata": {
        "colab": {
          "base_uri": "https://localhost:8080/"
        },
        "id": "aZdslCNdReW6",
        "outputId": "08078639-c57e-41c3-ff43-4be7c30c046f"
      },
      "source": [
        "def count(substring,string):\n",
        "  l1=len(substring)\n",
        "  l2=len(string)\n",
        "  temp=0\n",
        "  for i in range(l2-l1+1):\n",
        "    j=0\n",
        "    while (j<l1): \n",
        "      if(string[i+j]!=substring[j]):\n",
        "        break\n",
        "      j+=1\n",
        "    \n",
        "    if(j==l1):\n",
        "      temp+=1\n",
        "  return temp\n",
        "\n",
        "\n",
        "if __name__==\"__main__\":\n",
        "  string=input(\"Enter a string \")\n",
        "  substring=input(\"Enter a substring \")\n",
        "  print(\"The no. of times substring occurs in a string is\",count(substring,string))"
      ],
      "execution_count": 2,
      "outputs": [
        {
          "output_type": "stream",
          "text": [
            "Enter a string ABABAABA\n",
            "Enter a substring AB\n",
            "The no. of times substring occurs in a string is 3\n"
          ],
          "name": "stdout"
        }
      ]
    }
  ]
}