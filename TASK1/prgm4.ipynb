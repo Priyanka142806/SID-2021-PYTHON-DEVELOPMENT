{
  "nbformat": 4,
  "nbformat_minor": 0,
  "metadata": {
    "colab": {
      "name": "prgm4.ipynb",
      "provenance": []
    },
    "kernelspec": {
      "name": "python3",
      "display_name": "Python 3"
    },
    "language_info": {
      "name": "python"
    }
  },
  "cells": [
    {
      "cell_type": "markdown",
      "metadata": {
        "id": "Lnuo0ErETp2t"
      },
      "source": [
        "# Given an array of integers ‘a[ ]’ find the greatest common divisor(GCD) of those numbers."
      ]
    },
    {
      "cell_type": "code",
      "metadata": {
        "colab": {
          "base_uri": "https://localhost:8080/"
        },
        "id": "KBFBX2NoenR4",
        "outputId": "70181944-0619-4eda-e2bb-2e61b6f52de5"
      },
      "source": [
        "def gcd(c, d):\n",
        "    if (c == 0):\n",
        "      return d\n",
        "    return gcd(d%c,c)\n",
        "\n",
        "if __name__ == '__main__':\n",
        "  arr= []\n",
        "  length=int(input(\"The length of array is \"))\n",
        "  for a in range(1,length+1):\n",
        "    b=int(input(\"Enter a number \"))\n",
        "    arr.append(b)\n",
        "  print(\"The array is\", arr)\n",
        "\n",
        "  x=arr[0]\n",
        "  for i in range(1,length):\n",
        "    x= gcd(arr[i], x)\n",
        "  print(\"The greatest common divisor is\",x)"
      ],
      "execution_count": null,
      "outputs": [
        {
          "output_type": "stream",
          "text": [
            "The length of array is 4\n",
            "Enter a number 16\n",
            "Enter a number 8\n",
            "Enter a number 256\n",
            "Enter a number 1024\n",
            "The array is [16, 8, 256, 1024]\n",
            "The greatest common divisor is 8\n"
          ],
          "name": "stdout"
        }
      ]
    },
    {
      "cell_type": "code",
      "metadata": {
        "id": "h0fqfFoyOXCj"
      },
      "source": [
        ""
      ],
      "execution_count": null,
      "outputs": []
    }
  ]
}