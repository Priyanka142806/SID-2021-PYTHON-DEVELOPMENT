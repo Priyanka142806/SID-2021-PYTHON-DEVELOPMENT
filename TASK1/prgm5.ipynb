{
  "nbformat": 4,
  "nbformat_minor": 0,
  "metadata": {
    "colab": {
      "name": "prgm5.ipynb",
      "provenance": [],
      "collapsed_sections": []
    },
    "kernelspec": {
      "name": "python3",
      "display_name": "Python 3"
    },
    "language_info": {
      "name": "python"
    }
  },
  "cells": [
    {
      "cell_type": "markdown",
      "metadata": {
        "id": "bRY_1NgeE3W4"
      },
      "source": [
        "# Perfect number is a positive number which is equal to the sum of its factors.Given a number ‘n’ find the first n perfect numbers."
      ]
    },
    {
      "cell_type": "code",
      "metadata": {
        "colab": {
          "base_uri": "https://localhost:8080/"
        },
        "id": "4Q661K2MO-4X",
        "outputId": "ccfb95aa-0c3b-4043-af74-1b03870b0d39"
      },
      "source": [
        "def isperfect(n):\n",
        "  sum=0\n",
        "  for i in range(1,int(math.sqrt(n)+1)):\n",
        "    if(n%i)==0:\n",
        "      if(i==n/i):\n",
        "        sum+=i\n",
        "      else:\n",
        "        sum+=i\n",
        "        sum+=n/i\n",
        "    i+=1\n",
        "  sum=sum-n\n",
        "  if(sum==n):\n",
        "    return 1\n",
        "  else:\n",
        "    return 0\n",
        "  \n",
        "\n",
        "\n",
        "\n",
        "import math\n",
        "if __name__==\"__main__\":\n",
        "  n=int(input(\"Enter a number \"))\n",
        "  print(\"The perfect numbers are\" )\n",
        "  i=1\n",
        "  while(n>0):\n",
        "    if(isperfect(i)==1):\n",
        "      print(i)\n",
        "      n-=1\n",
        "    i+=1\n",
        "  print(\"\\n\")\n"
      ],
      "execution_count": null,
      "outputs": [
        {
          "output_type": "stream",
          "text": [
            "Enter a number 3\n",
            "The perfect numbers are\n",
            "6\n",
            "28\n",
            "496\n",
            "\n",
            "\n"
          ],
          "name": "stdout"
        }
      ]
    }
  ]
}