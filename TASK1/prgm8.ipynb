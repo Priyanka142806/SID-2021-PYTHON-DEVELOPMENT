{
  "nbformat": 4,
  "nbformat_minor": 0,
  "metadata": {
    "colab": {
      "name": "prgm8.ipynb",
      "provenance": [],
      "collapsed_sections": []
    },
    "kernelspec": {
      "name": "python3",
      "display_name": "Python 3"
    },
    "language_info": {
      "name": "python"
    }
  },
  "cells": [
    {
      "cell_type": "markdown",
      "metadata": {
        "id": "BABjVT5A3dCK"
      },
      "source": [
        "# Write a python program to display the  star pattern:"
      ]
    },
    {
      "cell_type": "code",
      "metadata": {
        "colab": {
          "base_uri": "https://localhost:8080/"
        },
        "id": "YEauoXEumUgI",
        "outputId": "7290df29-6b57-43ea-a936-231ec0f2809c"
      },
      "source": [
        "n=int(input(\"enter the number of rows \"))\n",
        "\n",
        "#for upper half\n",
        "for i in range(1,n+1):\n",
        "    j=0\n",
        "    while j < i:\n",
        "        print(\"  \",end=\"\")\n",
        "        j=j+1\n",
        "    k = n-i+1\n",
        "    l=0\n",
        "    while l < k:\n",
        "        print(\"*\",end=\"   \")\n",
        "        l=l+1\n",
        "    print(\"\")\n",
        "\n",
        "#for lower half\n",
        "for i in range (2,n+1):\n",
        "    j=0\n",
        "    while j < n-i+1:\n",
        "        print(\"  \",end=\"\")\n",
        "        j=j+1\n",
        "    k = i\n",
        "    l=0\n",
        "    while l < k:\n",
        "        print(\"*\",end=\"   \")\n",
        "        l=l+1\n",
        "    print(\"\")"
      ],
      "execution_count": 15,
      "outputs": [
        {
          "output_type": "stream",
          "text": [
            "enter the number of rows 5\n",
            "  *   *   *   *   *   \n",
            "    *   *   *   *   \n",
            "      *   *   *   \n",
            "        *   *   \n",
            "          *   \n",
            "        *   *   \n",
            "      *   *   *   \n",
            "    *   *   *   *   \n",
            "  *   *   *   *   *   \n"
          ],
          "name": "stdout"
        }
      ]
    }
  ]
}