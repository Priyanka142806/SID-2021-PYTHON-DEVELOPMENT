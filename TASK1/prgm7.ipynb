{
  "nbformat": 4,
  "nbformat_minor": 0,
  "metadata": {
    "colab": {
      "name": "prgm7.ipynb",
      "provenance": [],
      "collapsed_sections": []
    },
    "kernelspec": {
      "name": "python3",
      "display_name": "Python 3"
    },
    "language_info": {
      "name": "python"
    }
  },
  "cells": [
    {
      "cell_type": "markdown",
      "metadata": {
        "id": "1VsoUKv7fpAv"
      },
      "source": [
        "# Given an array ‘a[ ]’ and a value ‘k’, find if there is a triplet in the array whose sum is equal to the value."
      ]
    },
    {
      "cell_type": "code",
      "metadata": {
        "id": "zTM5CEzpeGQB",
        "colab": {
          "base_uri": "https://localhost:8080/"
        },
        "outputId": "55a04aeb-b349-443b-9b52-a3e86ad962bc"
      },
      "source": [
        "def findtriplet(arr,k,length):\n",
        "  temp=0\n",
        "  for i in range(0,length-2):\n",
        "    for j in range(1,length-1):\n",
        "      for l in range(2,length):\n",
        "        if arr[i]+arr[j]+arr[l]==k:\n",
        "          print(\"Triplet is\", arr[i],\", \", arr[j], \", \", arr[l])\n",
        "          temp=1\n",
        "  if temp==0:\n",
        "    print(\"Triplet not found\")\n",
        "\n",
        "  \n",
        "  \n",
        "if __name__ == '__main__':\n",
        "  arr= []\n",
        "  length=int(input(\"The length of array is \"))\n",
        "  for a in range(1,length+1):\n",
        "    b=int(input(\"Enter a number \"))\n",
        "    arr.append(b)\n",
        "  k=int(input(\"Enter sum \"))\n",
        "  findtriplet(arr,k,length)\n"
      ],
      "execution_count": 4,
      "outputs": [
        {
          "output_type": "stream",
          "text": [
            "The length of array is 5\n",
            "Enter a number 12\n",
            "Enter a number 4\n",
            "Enter a number 5\n",
            "Enter a number 19\n",
            "Enter a number 11\n",
            "Enter sum 35\n",
            "Triplet is 12 ,  4 ,  19\n",
            "Triplet is 5 ,  19 ,  11\n"
          ],
          "name": "stdout"
        }
      ]
    }
  ]
}