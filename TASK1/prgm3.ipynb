{
  "nbformat": 4,
  "nbformat_minor": 0,
  "metadata": {
    "colab": {
      "name": "prgm3.ipynb",
      "provenance": []
    },
    "kernelspec": {
      "name": "python3",
      "display_name": "Python 3"
    },
    "language_info": {
      "name": "python"
    }
  },
  "cells": [
    {
      "cell_type": "markdown",
      "metadata": {
        "id": "0crFgs8Xp4tG"
      },
      "source": [
        "# Given an integer ‘n’ find all prime numbers from 1 to n."
      ]
    },
    {
      "cell_type": "code",
      "metadata": {
        "colab": {
          "base_uri": "https://localhost:8080/"
        },
        "id": "Wy6-kokbofwW",
        "outputId": "fc8e0b0a-8112-47b5-ab99-0e305a431e92"
      },
      "source": [
        "\n",
        "n=int(input('Enter a number:'))\n",
        "print(\"The prime numbers are\")\n",
        "for Number in range (1,n+1):\n",
        "    count = 0\n",
        "    for i in range(2, (Number//2 + 1)):\n",
        "        if(Number % i == 0):\n",
        "            count = count + 1\n",
        "            break\n",
        "    if (count == 0 and Number != 1):\n",
        "        print(Number, end = '  ')\n"
      ],
      "execution_count": null,
      "outputs": [
        {
          "output_type": "stream",
          "text": [
            "Enter a number:11\n",
            "The prime numbers are\n",
            "2  3  5  7  11  "
          ],
          "name": "stdout"
        }
      ]
    }
  ]
}