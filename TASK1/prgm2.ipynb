{
  "nbformat": 4,
  "nbformat_minor": 0,
  "metadata": {
    "colab": {
      "name": "prgm2.ipynb",
      "provenance": []
    },
    "kernelspec": {
      "name": "python3",
      "display_name": "Python 3"
    },
    "language_info": {
      "name": "python"
    }
  },
  "cells": [
    {
      "cell_type": "markdown",
      "metadata": {
        "id": "JzlwRXa7o-SZ"
      },
      "source": [
        "# Given a number find the number of zeros in the factorial of the number."
      ]
    },
    {
      "cell_type": "code",
      "metadata": {
        "colab": {
          "base_uri": "https://localhost:8080/"
        },
        "id": "33xanGyDlA3L",
        "outputId": "f025625e-0b7d-46ee-deef-e514de6f56ee"
      },
      "source": [
        "def factorialTrailingzeroes(n):                                                 #function definition\n",
        "  count=0\n",
        "  i=5\n",
        "  while(n//i!=0):\n",
        "    count+=int(n/i)\n",
        "    i*=5\n",
        "  return count\n",
        "\n",
        "if __name__ == '__main__':\n",
        "  n=int(input(\"Enter a number: \\n\"))\n",
        "  print(\"The number of trailing zeroes are \",factorialTrailingzeroes(n))        #function call"
      ],
      "execution_count": null,
      "outputs": [
        {
          "output_type": "stream",
          "text": [
            "Enter a number: \n",
            "100\n",
            "The number of trailing zeroes are  24\n"
          ],
          "name": "stdout"
        }
      ]
    }
  ]
}