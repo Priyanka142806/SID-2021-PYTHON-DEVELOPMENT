{
  "nbformat": 4,
  "nbformat_minor": 0,
  "metadata": {
    "colab": {
      "name": "prgm1.ipynb",
      "provenance": [],
      "collapsed_sections": []
    },
    "kernelspec": {
      "name": "python3",
      "display_name": "Python 3"
    },
    "language_info": {
      "name": "python"
    }
  },
  "cells": [
    {
      "cell_type": "markdown",
      "metadata": {
        "id": "MkbJfBtaExX9"
      },
      "source": [
        "# You are given a string and you have to swap cases i.e. to convert uppercase to lowercase and vice-versa."
      ]
    },
    {
      "cell_type": "code",
      "metadata": {
        "colab": {
          "base_uri": "https://localhost:8080/"
        },
        "id": "N4ZYzlP7zs4o",
        "outputId": "ccdfe0bc-2cdf-4ea3-d824-65cd4294b891"
      },
      "source": [
        "\n",
        "def convertOpposite(str):\n",
        "  ln = len(str)\n",
        "\n",
        "  for i in range(ln):\n",
        "    if str[i] >= 'a' and str[i] <= 'z':                                         #converting loercase to uppercase\n",
        "      str[i] = chr(ord(str[i]) - 32)\n",
        "    elif str[i] >= 'A' and str[i] <= 'Z':                                       #converting uppercase to lowercase\n",
        "      str[i] = chr(ord(str[i]) + 32)\n",
        " \n",
        "\n",
        "\n",
        "\n",
        "if __name__ == \"__main__\":\n",
        "    str = input(\"The string is \")\n",
        "    str = list(str)\n",
        "    convertOpposite(str)\n",
        "    str = ''.join(str)\n",
        "    print(str)\n",
        " "
      ],
      "execution_count": null,
      "outputs": [
        {
          "output_type": "stream",
          "text": [
            "The string is inTERshiP.speCTrum.coM\n",
            "INterSHIp.SPEctRUM.COm\n"
          ],
          "name": "stdout"
        }
      ]
    }
  ]
}